{
  "nbformat": 4,
  "nbformat_minor": 0,
  "metadata": {
    "colab": {
      "provenance": []
    },
    "kernelspec": {
      "name": "python3",
      "display_name": "Python 3"
    },
    "language_info": {
      "name": "python"
    }
  },
  "cells": [
    {
      "cell_type": "markdown",
      "source": [
        "**1. What is statistics, and why is it important?**\n",
        "- Statistics is a mathematical discipline that involves collecting, analyzing, interpreting, and presenting data.\n",
        "- It is widely regarded as a distinct scientific discipline due to its vast applications across various fields.\n",
        " - Helps make sense of complex data through quantitative models.\n",
        " - Plays a critical role in decision-making in fields like weather forecasting, stock market analysis, insurance, and data science etc."
      ],
      "metadata": {
        "id": "WBENZY1KJ14Z"
      }
    },
    {
      "cell_type": "markdown",
      "source": [
        "**2. What are the two main types of statistics?**\n",
        "- There are two types of statistics:\n",
        " - Descriptive Statistics\n",
        " - Inferential Statistics"
      ],
      "metadata": {
        "id": "iw5BjRfiMwah"
      }
    },
    {
      "cell_type": "markdown",
      "source": [
        "**3. What are descriptive statistics?**\n",
        "- Descriptive statistics are brief informational coefficients that summarize a given data set, which can be either a representation of the entire population or a sample of a population. Descriptive statistics are broken down into measures of central tendency and measures of variability (spread). Measures of central tendency include the mean, median, and mode, while measures of variability include standard deviation, variance, minimum and maximum variables, kurtosis, and skewness."
      ],
      "metadata": {
        "id": "yP6OiXUkNJM2"
      }
    },
    {
      "cell_type": "markdown",
      "source": [
        "**4. What is inferential statistics?**\n",
        "- Inferential statistics helps to develop a good understanding of the population data by analyzing the samples obtained from it. It helps in making generalizations about the population by using various analytical tests and tools."
      ],
      "metadata": {
        "id": "ICd6WS9FOZq_"
      }
    },
    {
      "cell_type": "markdown",
      "source": [
        "**5. What is sampling in statistics?**\n",
        "- When you conduct research about a group of people, it's rarely possible to collect data from every person in that group. Instead, you select a sample. The sample is the group of individuals who will actually participate in the research."
      ],
      "metadata": {
        "id": "M94eYVt0PeC_"
      }
    },
    {
      "cell_type": "markdown",
      "source": [
        "**6. What are the different types of sampling methods?**\n",
        "- In Statistics, there are different sampling techniques available to get relevant results from the population. The two different types of sampling methods are:\n",
        " - Probability Sampling\n",
        "   - Simple Random Sampling\n",
        "   - Systematic Sampling\n",
        "   - Stratified Sampling\n",
        "   - Clustered Sampling\n",
        " - Non-probability Sampling\n",
        "   - Convenience Sampling\n",
        "   - Consecutive Sampling\n",
        "   - Quota Sampling\n",
        "   - Purposive or Judgmental Sampling\n",
        "   - Snowball Sampling"
      ],
      "metadata": {
        "id": "x2TckiVPSFlo"
      }
    },
    {
      "cell_type": "markdown",
      "source": [
        "**7. What is the difference between random and non-random sampling?**\n",
        "- The main difference between **random** and **non-random** sampling is how the samples are selected from a population:\n",
        "\n",
        "1. **Random Sampling**  \n",
        "   - Every individual in the population has an equal chance of being selected.  \n",
        "   - It reduces bias and increases the likelihood that the sample represents the entire population.  \n",
        "   - Examples:  \n",
        "     - **Simple Random Sampling** (e.g., drawing names from a hat)  \n",
        "     - **Stratified Sampling** (e.g., dividing a population into groups and randomly selecting from each)  \n",
        "     - **Systematic Sampling** (e.g., selecting every 10th person on a list)  \n",
        "\n",
        "2. **Non-Random Sampling**  \n",
        "   - Selection is based on convenience, judgment, or other non-random criteria.  \n",
        "   - It may introduce bias, making the sample less representative of the population.  \n",
        "   - Examples:  \n",
        "     - **Convenience Sampling** (e.g., surveying people at a mall)  \n",
        "     - **Purposive/Judgmental Sampling** (e.g., selecting experts in a field)  \n",
        "     - **Quota Sampling** (e.g., ensuring certain demographics are represented in fixed proportions)"
      ],
      "metadata": {
        "id": "gthbdfPZTkXa"
      }
    },
    {
      "cell_type": "markdown",
      "source": [
        "**8. Define and give examples of qualitative and quantitative data.**\n",
        "- **Quantitative data** - Quantitative data refers to any information that can be quantified - that is, numbers. If it can be counted or measured, and given a numerical value, it's quantitative in nature. Think of it as a measuring stick.\n",
        "Quantitative variables can tell you \"how many,\" \"how much,\" or \"how often.\"<br>\n",
        " **Example** - The customer has clicked on the button 13 times. <br>\n",
        "The engineer has resolved 34 support tickets today. <br>\n",
        "The team has completed 7 upgrades this month. <br>\n",
        "14 cartons of eggs were purchased this month.<br>\n",
        "- **Qualitative data** - Unlike quantitative data, qualitative data is descriptive, expressed in terms of language rather than numerical values.\n",
        "Qualitative data analysis describes information and cannot be measured or counted. It refers to the words or labels used to describe certain characteristics or traits.<br>\n",
        " **Example** - My manager has curly brown hair and blue eyes.<br>\n",
        "My coworker is funny, loud, and a good listener.<br>\n",
        "The customer has a very friendly face and a contagious laugh.<br>\n",
        "The eggs were delicious.<br>"
      ],
      "metadata": {
        "id": "LqnzbbUoU3fX"
      }
    },
    {
      "cell_type": "markdown",
      "source": [
        "**9. What are the different types of data in statistics?**\n",
        "- The data in statistics is classified into four categories:\n",
        " - Nominal data\n",
        " - Ordinal data\n",
        " - Discrete data\n",
        " - Continuous data"
      ],
      "metadata": {
        "id": "XeF2-AaEZ4gQ"
      }
    },
    {
      "cell_type": "markdown",
      "source": [
        "**10. Explain nominal, ordinal, interval, and ratio levels of measurement.**\n",
        "- Nominal: Categorical data without order (e.g., colors: Red, Blue, Green).\n",
        "- Ordinal: Categorical data with a meaningful order but no fixed interval (e.g., customer ratings: Bad, Average, Good).\n",
        "- Interval: Numerical data with equal intervals but no true zero (e.g., temperature in Celsius).\n",
        "- Ratio: Numerical data with equal intervals and a true zero (e.g., height, weight, income)."
      ],
      "metadata": {
        "id": "rpJF1HYbempH"
      }
    },
    {
      "cell_type": "markdown",
      "source": [
        "**11. What is the measure of central tendency?**\n",
        "- A statistical measure that represents the center or typical value of a dataset. Includes Mean, Median, and Mode."
      ],
      "metadata": {
        "id": "YPL4hWnPiVpH"
      }
    },
    {
      "cell_type": "markdown",
      "source": [
        "**12. Define mean, median, and mode.**\n",
        "- Mean: Average of values:\n",
        "- Median: Middle value when sorted.\n",
        "- Mode: Most frequently occurring value.\n",
        "  - Example:  {2, 3, 5, 5, 7}\n",
        "\n",
        "Mean = (2+3+5+5+7)/5 = 4.4<br>\n",
        "Median = 5<br>\n",
        "Mode = 5"
      ],
      "metadata": {
        "id": "_doe3__Ai4ZP"
      }
    },
    {
      "cell_type": "markdown",
      "source": [
        "**13. What is the significance of the measure of central tendency?**\n",
        "- Significance of the Measure of Central Tendency\n",
        " - Helps summarize data with a single value.\n",
        " - Useful for comparisons between datasets.\n",
        " - Determines the most typical value in distributions."
      ],
      "metadata": {
        "id": "_vnAV45wkV3w"
      }
    },
    {
      "cell_type": "markdown",
      "source": [
        "**14. What is variance, and how is it calculated?**\n",
        "- Variance measures the spread of data from the mean:\n",
        " - $σ^2 = ∑ (xi – x̄)^2/n$\n",
        "where,\n",
        " - x̄ is the mean of population data set\n",
        " - n is the total number of observations\n"
      ],
      "metadata": {
        "id": "R82M-32ekyzt"
      }
    },
    {
      "cell_type": "markdown",
      "source": [
        "**15. What is standard deviation, and why is it important?**\n",
        "- Square root of variance:\n",
        "$ \\sigma=\\sqrt{\\dfrac{\\sum{(x_i-\\mu)^2}}{N}} $\n",
        "- Measures dispersion; higher\n",
        "σ = more spread-out data.\n",
        "- Important for risk assessment in finance, quality control, etc."
      ],
      "metadata": {
        "id": "jB9cDTldokkw"
      }
    },
    {
      "cell_type": "markdown",
      "source": [
        "**16. Define and explain the term range in statistics.**\n",
        "- Difference between the maximum and minimum values:\n",
        "\n",
        "Range = (Max- Min)\n",
        "  - Example: {2, 4, 7, 9}\n",
        "   - Range = 9-2 = 7"
      ],
      "metadata": {
        "id": "LHUQa7OMpOhk"
      }
    },
    {
      "cell_type": "markdown",
      "source": [
        "**17. What is the difference between variance and standard deviation?**\n",
        "- Variance: Measures the average squared deviation.\n",
        "- Standard Deviation: Square root of variance, expressed in original units.\n",
        "  - Example: If variance = 16, standard deviation = 4."
      ],
      "metadata": {
        "id": "9WNx68voufor"
      }
    },
    {
      "cell_type": "markdown",
      "source": [
        "**18. What is skewness in a dataset?**\n",
        "- Skewness measures asymmetry in data distribution.\n",
        " - Positive Skew: Right tail longer (e.g., income distribution).\n",
        " - Negative Skew: Left tail longer (e.g., age at retirement)."
      ],
      "metadata": {
        "id": "cCCClBIvu6Mb"
      }
    },
    {
      "cell_type": "markdown",
      "source": [
        "**19. What does it mean if a dataset is positively or negatively skewed?**\n",
        "- Positively Skewed: Mean > Median > Mode (right tail longer).\n",
        "- Negatively Skewed: Mode > Median > Mean (left tail longer)."
      ],
      "metadata": {
        "id": "RacQic7avLUX"
      }
    },
    {
      "cell_type": "markdown",
      "source": [
        "**20. Define and explain kurtosis.**\n",
        "- Measures the \"tailedness\" of a distribution:\n",
        " - Leptokurtic (High kurtosis): Heavy tails, more extreme outliers.\n",
        " - Mesokurtic (Normal kurtosis): Bell-shaped (e.g., Normal distribution).\n",
        " - Platykurtic (Low kurtosis): Light tails, fewer outliers."
      ],
      "metadata": {
        "id": "HTlrlXewvmWu"
      }
    },
    {
      "cell_type": "markdown",
      "source": [
        "**21. What is the purpose of covariance?**\n",
        "- Measures the relationship between two variables.\n",
        " - Positive Covariance: When one variable increases, the other variable tends to increase as well, and vice versa.\n",
        " - Negative Covariance: When one variable increases, the other variable tends to decrease.\n",
        " - Zero Covariance: There is no linear relationship between the two variables; they move independently of each other."
      ],
      "metadata": {
        "id": "GI4UkMuLwFfF"
      }
    },
    {
      "cell_type": "markdown",
      "source": [
        "**22. What does correlation measure in statistics?**\n",
        "- Measures the strength & direction of a relationship between two variables.\n",
        "$r= Cov(X,Y)/σ_xσ_y$\n",
        " - r = 1: Perfect positive correlation\n",
        " - r = -1: Perfect negative correlation\n",
        " - r = 0: No correlation"
      ],
      "metadata": {
        "id": "_hRf8ttdxhQt"
      }
    },
    {
      "cell_type": "markdown",
      "source": [
        "**23. What is the difference between covariance and correlation?**\n",
        "- Covariance: Shows direction (but not strength) of the relationship.\n",
        "- Correlation: Standardized measure (-1 to +1), showing both direction & strength.\n",
        "Example: Income & spending have positive covariance; correlation quantifies the strength."
      ],
      "metadata": {
        "id": "AWn2gKPq5_0M"
      }
    },
    {
      "cell_type": "markdown",
      "source": [
        "**24.  What are some real-world applications of statistics?**\n",
        "- Finance: Risk analysis, stock market predictions.\n",
        "- Healthcare: Disease predictions, medical research.\n",
        "- Marketing: Customer behavior analysis.\n",
        "- Machine Learning: Data preprocessing, model evaluation.\n",
        "- Sports: Player performance analysis."
      ],
      "metadata": {
        "id": "hV7q10Zo6zDG"
      }
    },
    {
      "cell_type": "markdown",
      "source": [
        "**1. How do you calculate the mean, median, and mode of a dataset?**"
      ],
      "metadata": {
        "id": "_aB4h9Ap77jt"
      }
    },
    {
      "cell_type": "code",
      "source": [
        "import numpy as np\n",
        "from scipy import stats\n",
        "\n",
        "# Sample dataset\n",
        "data = [10, 20, 20, 30, 40, 50, 50, 50, 60, 70]\n",
        "\n",
        "# Mean\n",
        "mean_value = np.mean(data)\n",
        "\n",
        "# Median\n",
        "median_value = np.median(data)\n",
        "\n",
        "# Mode\n",
        "mode_value = stats.mode(data, keepdims=True).mode[0]  # keepdims=True for compatibility with future SciPy versions\n",
        "\n",
        "# Display the results\n",
        "print(f\"Mean: {mean_value}\")\n",
        "print(f\"Median: {median_value}\")\n",
        "print(f\"Mode: {mode_value}\")"
      ],
      "metadata": {
        "colab": {
          "base_uri": "https://localhost:8080/"
        },
        "id": "D1YBA8HM97c5",
        "outputId": "946dbb3e-b9b9-438a-9659-59e83d187e55"
      },
      "execution_count": 1,
      "outputs": [
        {
          "output_type": "stream",
          "name": "stdout",
          "text": [
            "Mean: 40.0\n",
            "Median: 45.0\n",
            "Mode: 50\n"
          ]
        }
      ]
    },
    {
      "cell_type": "markdown",
      "source": [
        "**2. Write a Python program to compute the variance and standard deviation of a dataset.**"
      ],
      "metadata": {
        "id": "NV2jyJZCAXr_"
      }
    },
    {
      "cell_type": "code",
      "source": [
        "import numpy as np\n",
        "\n",
        "# Sample dataset\n",
        "data = [10, 20, 30, 40, 50, 60, 70, 80, 90, 100]\n",
        "\n",
        "# Population Variance\n",
        "variance_population = np.var(data)\n",
        "\n",
        "# Sample Variance (dividing by N-1)\n",
        "variance_sample = np.var(data, ddof=1)\n",
        "\n",
        "# Population Standard Deviation\n",
        "std_dev_population = np.std(data)\n",
        "\n",
        "# Sample Standard Deviation\n",
        "std_dev_sample = np.std(data, ddof=1)\n",
        "\n",
        "# Display results\n",
        "print(f\"Population Variance: {variance_population}\")\n",
        "print(f\"Sample Variance: {variance_sample}\")\n",
        "print(f\"Population Standard Deviation: {std_dev_population}\")\n",
        "print(f\"Sample Standard Deviation: {std_dev_sample}\")"
      ],
      "metadata": {
        "colab": {
          "base_uri": "https://localhost:8080/"
        },
        "id": "SyaCyNr0Adyx",
        "outputId": "b98dc2ed-e1c0-46c4-ac99-a7526168cac2"
      },
      "execution_count": 2,
      "outputs": [
        {
          "output_type": "stream",
          "name": "stdout",
          "text": [
            "Population Variance: 825.0\n",
            "Sample Variance: 916.6666666666666\n",
            "Population Standard Deviation: 28.722813232690143\n",
            "Sample Standard Deviation: 30.276503540974915\n"
          ]
        }
      ]
    },
    {
      "cell_type": "markdown",
      "source": [
        "**3. Create a dataset and classify it into nominal, ordinal, interval, and ratio types.**"
      ],
      "metadata": {
        "id": "h-XqKmvxA1nH"
      }
    },
    {
      "cell_type": "code",
      "source": [
        "# Nominal Data (Categories, No Order)\n",
        "nominal_data = [\"Red\", \"Blue\", \"Green\", \"Yellow\"]  # Colors\n",
        "\n",
        "# Ordinal Data (Categories, Ordered)\n",
        "ordinal_data = [\"Poor\", \"Fair\", \"Good\", \"Excellent\"]  # Customer Satisfaction\n",
        "\n",
        "# Interval Data (Numerical, No True Zero)\n",
        "interval_data = [-10, 0, 10, 20, 30, 40]  # Temperature in Celsius\n",
        "\n",
        "# Ratio Data (Numerical, True Zero Exists)\n",
        "ratio_data = [1.5, 2.0, 3.5, 5.0, 7.0]  # Weight in kg\n",
        "\n",
        "# Display results\n",
        "print(f\"Nominal Data: {nominal_data}\")\n",
        "print(f\"Ordinal Data: {ordinal_data}\")\n",
        "print(f\"Interval Data: {interval_data}\")\n",
        "print(f\"Ratio Data: {ratio_data}\")"
      ],
      "metadata": {
        "colab": {
          "base_uri": "https://localhost:8080/"
        },
        "id": "lEBIJ1CGBKJy",
        "outputId": "31c36973-289d-4f84-a697-2c432e6ed3e0"
      },
      "execution_count": 3,
      "outputs": [
        {
          "output_type": "stream",
          "name": "stdout",
          "text": [
            "Nominal Data: ['Red', 'Blue', 'Green', 'Yellow']\n",
            "Ordinal Data: ['Poor', 'Fair', 'Good', 'Excellent']\n",
            "Interval Data: [-10, 0, 10, 20, 30, 40]\n",
            "Ratio Data: [1.5, 2.0, 3.5, 5.0, 7.0]\n"
          ]
        }
      ]
    },
    {
      "cell_type": "markdown",
      "source": [
        "**4. Implement sampling techniques like random sampling and stratified sampling.**"
      ],
      "metadata": {
        "id": "P2i5m562A2WP"
      }
    },
    {
      "cell_type": "code",
      "source": [
        "import numpy as np\n",
        "import pandas as pd\n",
        "from sklearn.model_selection import train_test_split\n",
        "\n",
        "# Create a dataset\n",
        "np.random.seed(42)\n",
        "data = pd.DataFrame({\n",
        "    \"ID\": np.arange(1, 101),  # 100 data points\n",
        "    \"Age\": np.random.randint(18, 60, 100),  # Random ages between 18 and 60\n",
        "    \"Income\": np.random.randint(30000, 100000, 100),  # Random incomes\n",
        "    \"Category\": np.random.choice([\"A\", \"B\", \"C\"], 100)  # Stratification category\n",
        "})\n",
        "\n",
        "# --- 1. Simple Random Sampling ---\n",
        "random_sample = data.sample(n=10, random_state=42)  # Randomly selecting 10 data points\n",
        "\n",
        "# --- 2. Stratified Sampling ---\n",
        "stratified_sample = data.groupby(\"Category\", group_keys=False).apply(lambda x: x.sample(n=3, random_state=42))\n",
        "\n",
        "# Display Results\n",
        "print(\"Random Sample:\\n\", random_sample)\n",
        "print(\"\\nStratified Sample:\\n\", stratified_sample)"
      ],
      "metadata": {
        "colab": {
          "base_uri": "https://localhost:8080/"
        },
        "id": "4aKKfOO8BjJd",
        "outputId": "c217042f-614f-40d7-aed6-5c869d8465d6"
      },
      "execution_count": 4,
      "outputs": [
        {
          "output_type": "stream",
          "name": "stdout",
          "text": [
            "Random Sample:\n",
            "     ID  Age  Income Category\n",
            "83  84   26   81663        B\n",
            "53  54   21   98840        B\n",
            "70  71   57   56309        C\n",
            "45  46   45   88053        A\n",
            "44  45   37   39474        C\n",
            "39  40   42   60080        A\n",
            "22  23   50   52299        A\n",
            "80  81   18   52671        A\n",
            "10  11   41   36910        A\n",
            "0    1   56   38392        B\n",
            "\n",
            "Stratified Sample:\n",
            "     ID  Age  Income Category\n",
            "84  85   41   45708        A\n",
            "90  91   25   32911        A\n",
            "11  12   53   30206        A\n",
            "96  97   56   38155        B\n",
            "49  50   31   43545        B\n",
            "73  74   35   42688        B\n",
            "93  94   50   41111        C\n",
            "57  58   21   69353        C\n",
            "44  45   37   39474        C\n"
          ]
        },
        {
          "output_type": "stream",
          "name": "stderr",
          "text": [
            "<ipython-input-4-700bc739f074>:18: DeprecationWarning: DataFrameGroupBy.apply operated on the grouping columns. This behavior is deprecated, and in a future version of pandas the grouping columns will be excluded from the operation. Either pass `include_groups=False` to exclude the groupings or explicitly select the grouping columns after groupby to silence this warning.\n",
            "  stratified_sample = data.groupby(\"Category\", group_keys=False).apply(lambda x: x.sample(n=3, random_state=42))\n"
          ]
        }
      ]
    },
    {
      "cell_type": "markdown",
      "source": [
        "**5. Write a Python function to calculate the range of a dataset.**"
      ],
      "metadata": {
        "id": "m_ESmUPfA2if"
      }
    },
    {
      "cell_type": "code",
      "source": [
        "def calculate_range(data):\n",
        "    return max(data) - min(data)\n",
        "\n",
        "# Sample dataset\n",
        "data = [10, 20, 30, 40, 50, 60, 70, 80, 90, 100]\n",
        "\n",
        "# Compute range\n",
        "range_value = calculate_range(data)\n",
        "\n",
        "# Display result\n",
        "print(f\"Range of the dataset: {range_value}\")"
      ],
      "metadata": {
        "colab": {
          "base_uri": "https://localhost:8080/"
        },
        "id": "V1t2FB2OCNsm",
        "outputId": "f23cd97b-5f75-4b4a-9eed-aa7708fd9e12"
      },
      "execution_count": 5,
      "outputs": [
        {
          "output_type": "stream",
          "name": "stdout",
          "text": [
            "Range of the dataset: 90\n"
          ]
        }
      ]
    },
    {
      "cell_type": "markdown",
      "source": [
        "**6. Create a dataset and plot its histogram to visualize skewness.**"
      ],
      "metadata": {
        "id": "eDvrXFFOA20V"
      }
    },
    {
      "cell_type": "code",
      "source": [
        "import numpy as np\n",
        "import matplotlib.pyplot as plt\n",
        "\n",
        "# Generating a right-skewed dataset (positive skew)\n",
        "data = np.random.exponential(scale=2, size=1000)\n",
        "\n",
        "# Plot Histogram\n",
        "plt.hist(data, bins=30, color=\"skyblue\", edgecolor=\"black\", alpha=0.7)\n",
        "plt.title(\"Histogram to Visualize Skewness\")\n",
        "plt.xlabel(\"Values\")\n",
        "plt.ylabel(\"Frequency\")\n",
        "plt.grid(axis='y', linestyle='--', alpha=0.7)\n",
        "\n",
        "# Show plot\n",
        "plt.show()"
      ],
      "metadata": {
        "colab": {
          "base_uri": "https://localhost:8080/",
          "height": 472
        },
        "id": "zcTZhUllCYog",
        "outputId": "8be2cf2e-1a54-447e-afd8-b80056d8818e"
      },
      "execution_count": 6,
      "outputs": [
        {
          "output_type": "display_data",
          "data": {
            "text/plain": [
              "<Figure size 640x480 with 1 Axes>"
            ],
            "image/png": "[encoded data removed]"
          },
          "metadata": {}
        }
      ]
    },
    {
      "cell_type": "markdown",
      "source": [
        "**7. Calculate skewness and kurtosis of a dataset using Python libraries.**"
      ],
      "metadata": {
        "id": "mRDhy0J9A3N-"
      }
    },
    {
      "cell_type": "code",
      "source": [
        "import numpy as np\n",
        "import scipy.stats as stats\n",
        "\n",
        "# Generate a dataset\n",
        "data = np.random.exponential(scale=2, size=1000)  # Positively skewed dataset\n",
        "\n",
        "# Calculate skewness\n",
        "skewness = stats.skew(data)\n",
        "\n",
        "# Calculate kurtosis\n",
        "kurtosis = stats.kurtosis(data, fisher=True)  # Fisher=True gives excess kurtosis (normal dist = 0)\n",
        "\n",
        "# Display results\n",
        "print(f\"Skewness: {skewness:.4f}\")\n",
        "print(f\"Kurtosis: {kurtosis:.4f}\")"
      ],
      "metadata": {
        "colab": {
          "base_uri": "https://localhost:8080/"
        },
        "id": "zwWLFdPhDWrp",
        "outputId": "bc320b0a-e9de-460c-d948-3b913bb30961"
      },
      "execution_count": 7,
      "outputs": [
        {
          "output_type": "stream",
          "name": "stdout",
          "text": [
            "Skewness: 1.7854\n",
            "Kurtosis: 3.6593\n"
          ]
        }
      ]
    },
    {
      "cell_type": "markdown",
      "source": [
        "**8. Generate a dataset and demonstrate positive and negative skewness.**"
      ],
      "metadata": {
        "id": "-SUqzSVCA3g1"
      }
    },
    {
      "cell_type": "code",
      "source": [
        "import numpy as np\n",
        "import matplotlib.pyplot as plt\n",
        "import scipy.stats as stats\n",
        "\n",
        "# Generate Positively Skewed Data (Right-Skewed)\n",
        "positive_skew_data = np.random.exponential(scale=2, size=1000)\n",
        "\n",
        "# Generate Negatively Skewed Data (Left-Skewed)\n",
        "negative_skew_data = np.random.normal(loc=50, scale=15, size=1000) ** 2  # Squaring makes it left-skewed\n",
        "\n",
        "# Calculate skewness values\n",
        "skew_pos = stats.skew(positive_skew_data)\n",
        "skew_neg = stats.skew(negative_skew_data)\n",
        "\n",
        "# Plot histograms\n",
        "fig, ax = plt.subplots(1, 2, figsize=(12, 5))\n",
        "\n",
        "# Positive Skewed Histogram\n",
        "ax[0].hist(positive_skew_data, bins=30, color=\"skyblue\", edgecolor=\"black\", alpha=0.7)\n",
        "ax[0].set_title(f\"Positive Skewness (Skew={skew_pos:.4f})\")\n",
        "ax[0].set_xlabel(\"Values\")\n",
        "ax[0].set_ylabel(\"Frequency\")\n",
        "\n",
        "# Negative Skewed Histogram\n",
        "ax[1].hist(negative_skew_data, bins=30, color=\"salmon\", edgecolor=\"black\", alpha=0.7)\n",
        "ax[1].set_title(f\"Negative Skewness (Skew={skew_neg:.4f})\")\n",
        "ax[1].set_xlabel(\"Values\")\n",
        "ax[1].set_ylabel(\"Frequency\")\n",
        "\n",
        "# Display plots\n",
        "plt.tight_layout()\n",
        "plt.show()"
      ],
      "metadata": {
        "colab": {
          "base_uri": "https://localhost:8080/",
          "height": 507
        },
        "id": "ZVWhh-cnDhlm",
        "outputId": "5590a8dc-4276-4fe2-9a86-bb7e0d750d68"
      },
      "execution_count": 8,
      "outputs": [
        {
          "output_type": "display_data",
          "data": {
            "text/plain": [
              "<Figure size 1200x500 with 2 Axes>"
            ],
            "image/png": "[encoded data removed]"
          },
          "metadata": {}
        }
      ]
    },
    {
      "cell_type": "markdown",
      "source": [
        "**9. Write a Python script to calculate covariance between two datasets.**"
      ],
      "metadata": {
        "id": "zyYBn847A32N"
      }
    },
    {
      "cell_type": "code",
      "source": [
        "import numpy as np\n",
        "\n",
        "# Generate two datasets (Height vs. Weight example)\n",
        "np.random.seed(42)\n",
        "height = np.random.normal(170, 10, 100)  # Heights in cm\n",
        "weight = height * 0.5 + np.random.normal(0, 5, 100)  # Weights correlated with height\n",
        "\n",
        "# Calculate Covariance Matrix\n",
        "cov_matrix = np.cov(height, weight)\n",
        "\n",
        "# Extract covariance value\n",
        "cov_value = cov_matrix[0, 1]\n",
        "\n",
        "# Display Results\n",
        "print(f\"Covariance Matrix:\\n{cov_matrix}\")\n",
        "print(f\"\\nCovariance between Height and Weight: {cov_value:.4f}\")"
      ],
      "metadata": {
        "colab": {
          "base_uri": "https://localhost:8080/"
        },
        "id": "xZdZVWwxEJR1",
        "outputId": "1df9df03-d5e2-4c0c-818f-b23c7417e40b"
      },
      "execution_count": 9,
      "outputs": [
        {
          "output_type": "stream",
          "name": "stdout",
          "text": [
            "Covariance Matrix:\n",
            "[[82.47698936 35.33078504]\n",
            " [35.33078504 37.44865013]]\n",
            "\n",
            "Covariance between Height and Weight: 35.3308\n"
          ]
        }
      ]
    },
    {
      "cell_type": "markdown",
      "source": [
        "**10. Write a Python script to calculate the correlation coefficient between two datasets.**"
      ],
      "metadata": {
        "id": "HBMAlAytA4KG"
      }
    },
    {
      "cell_type": "code",
      "source": [
        "import numpy as np\n",
        "\n",
        "# Generate two datasets (Height vs. Weight example)\n",
        "np.random.seed(42)\n",
        "height = np.random.normal(170, 10, 100)  # Heights in cm\n",
        "weight = height * 0.5 + np.random.normal(0, 5, 100)  # Weights correlated with height\n",
        "\n",
        "# Calculate Correlation Coefficient\n",
        "corr_coefficient = np.corrcoef(height, weight)[0, 1]\n",
        "\n",
        "# Display result\n",
        "print(f\"Correlation Coefficient (r) between Height and Weight: {corr_coefficient:.4f}\")"
      ],
      "metadata": {
        "colab": {
          "base_uri": "https://localhost:8080/"
        },
        "id": "RtIObvwoETQt",
        "outputId": "ac1a0df8-a809-4474-fa9e-fd61c0b37b52"
      },
      "execution_count": 10,
      "outputs": [
        {
          "output_type": "stream",
          "name": "stdout",
          "text": [
            "Correlation Coefficient (r) between Height and Weight: 0.6357\n"
          ]
        }
      ]
    },
    {
      "cell_type": "markdown",
      "source": [
        "**11. Create a scatter plot to visualize the relationship between two variables.**"
      ],
      "metadata": {
        "id": "dGRZxGGjEkL2"
      }
    },
    {
      "cell_type": "code",
      "source": [
        "import numpy as np\n",
        "import matplotlib.pyplot as plt\n",
        "\n",
        "# Generate two datasets (Height vs. Weight example)\n",
        "np.random.seed(42)\n",
        "height = np.random.normal(170, 10, 100)  # Heights in cm\n",
        "weight = height * 0.5 + np.random.normal(0, 5, 100)  # Weights correlated with height\n",
        "\n",
        "# Create Scatter Plot\n",
        "plt.figure(figsize=(8, 5))\n",
        "plt.scatter(height, weight, color=\"blue\", alpha=0.6, edgecolor=\"black\")\n",
        "plt.title(\"Scatter Plot of Height vs. Weight\")\n",
        "plt.xlabel(\"Height (cm)\")\n",
        "plt.ylabel(\"Weight (kg)\")\n",
        "plt.grid(True, linestyle=\"--\", alpha=0.6)\n",
        "\n",
        "# Show plot\n",
        "plt.show()"
      ],
      "metadata": {
        "colab": {
          "base_uri": "https://localhost:8080/",
          "height": 487
        },
        "id": "V5_2Sh1FEnMF",
        "outputId": "6602fdf7-be8d-4108-b134-3daa521723c3"
      },
      "execution_count": 11,
      "outputs": [
        {
          "output_type": "display_data",
          "data": {
            "text/plain": [
              "<Figure size 800x500 with 1 Axes>"
            ],
            "image/png": "[encoded data removed]"
          },
          "metadata": {}
        }
      ]
    },
    {
      "cell_type": "markdown",
      "source": [
        "**12. Implement and compare simple random sampling and systematic sampling.**"
      ],
      "metadata": {
        "id": "OYdPSOMPFNMs"
      }
    },
    {
      "cell_type": "code",
      "source": [
        "import numpy as np\n",
        "import pandas as pd\n",
        "\n",
        "# Generate a dataset (Population of 1000 values)\n",
        "np.random.seed(42)\n",
        "population = np.random.randint(50, 150, 1000)  # Random values between 50 and 150\n",
        "\n",
        "# Simple Random Sampling (SRS) - Selecting 10% of data randomly\n",
        "simple_random_sample = np.random.choice(population, size=100, replace=False)\n",
        "\n",
        "# Systematic Sampling - Select every k-th element\n",
        "k = len(population) // 100  # Step size for 100 samples\n",
        "systematic_sample = population[::k]  # Every k-th element\n",
        "\n",
        "# Convert to DataFrame for comparison\n",
        "df = pd.DataFrame({\n",
        "    \"Simple Random Sample\": simple_random_sample,\n",
        "    \"Systematic Sample\": systematic_sample\n",
        "})\n",
        "\n",
        "# Display first few samples\n",
        "print(df.head())"
      ],
      "metadata": {
        "colab": {
          "base_uri": "https://localhost:8080/"
        },
        "id": "4L__jachFwrs",
        "outputId": "e3485d52-6e90-4034-f4fb-bc1d8230c44d"
      },
      "execution_count": 13,
      "outputs": [
        {
          "output_type": "stream",
          "name": "stdout",
          "text": [
            "   Simple Random Sample  Systematic Sample\n",
            "0                   139                101\n",
            "1                    51                137\n",
            "2                    99                 51\n",
            "3                    87                140\n",
            "4                    70                111\n"
          ]
        }
      ]
    },
    {
      "cell_type": "markdown",
      "source": [
        "**13. Calculate the mean, median, and mode of grouped data.**"
      ],
      "metadata": {
        "id": "6g7gJd0OF-by"
      }
    },
    {
      "cell_type": "code",
      "source": [
        "import numpy as np\n",
        "import pandas as pd\n",
        "from scipy import stats\n",
        "\n",
        "# Define grouped data (Class Intervals & Frequency)\n",
        "class_intervals = [(10, 20), (20, 30), (30, 40), (40, 50), (50, 60)]\n",
        "frequency = [5, 8, 12, 15, 10]\n",
        "\n",
        "# Calculate Class Midpoints\n",
        "midpoints = [(interval[0] + interval[1]) / 2 for interval in class_intervals]\n",
        "\n",
        "# Calculate Mean\n",
        "mean_grouped = np.sum(np.array(midpoints) * np.array(frequency)) / np.sum(frequency)\n",
        "\n",
        "# Calculate Median (Using Cumulative Frequency)\n",
        "cumulative_freq = np.cumsum(frequency)\n",
        "total_n = cumulative_freq[-1]\n",
        "median_class_index = np.where(cumulative_freq >= total_n / 2)[0][0]\n",
        "L = class_intervals[median_class_index][0]  # Lower boundary of median class\n",
        "F = cumulative_freq[median_class_index - 1] if median_class_index > 0 else 0  # Cumulative freq before median class\n",
        "f_median = frequency[median_class_index]  # Frequency of median class\n",
        "c = class_intervals[0][1] - class_intervals[0][0]  # Class width\n",
        "\n",
        "median_grouped = L + ((total_n / 2 - F) / f_median) * c\n",
        "\n",
        "# Calculate Mode\n",
        "mode_class_index = np.argmax(frequency)  # Class with highest frequency\n",
        "L_mode = class_intervals[mode_class_index][0]  # Lower boundary of mode class\n",
        "f_mode = frequency[mode_class_index]\n",
        "f_prev = frequency[mode_class_index - 1] if mode_class_index > 0 else 0\n",
        "f_next = frequency[mode_class_index + 1] if mode_class_index < len(frequency) - 1 else 0\n",
        "\n",
        "mode_grouped = L_mode + ((f_mode - f_prev) / ((2 * f_mode) - f_prev - f_next)) * c\n",
        "\n",
        "# Display results\n",
        "print(f\"Grouped Mean: {mean_grouped:.2f}\")\n",
        "print(f\"Grouped Median: {median_grouped:.2f}\")\n",
        "print(f\"Grouped Mode: {mode_grouped:.2f}\")"
      ],
      "metadata": {
        "colab": {
          "base_uri": "https://localhost:8080/"
        },
        "id": "BbcoZP01GA0I",
        "outputId": "43c49983-33b7-40b2-f317-65aceded33ed"
      },
      "execution_count": 14,
      "outputs": [
        {
          "output_type": "stream",
          "name": "stdout",
          "text": [
            "Grouped Mean: 38.40\n",
            "Grouped Median: 40.00\n",
            "Grouped Mode: 43.75\n"
          ]
        }
      ]
    },
    {
      "cell_type": "markdown",
      "source": [
        "**14. Simulate data using Python and calculate its central tendency and dispersion.**"
      ],
      "metadata": {
        "id": "Ua3vtRjVGUhX"
      }
    },
    {
      "cell_type": "code",
      "source": [
        "import numpy as np\n",
        "import pandas as pd\n",
        "from scipy import stats\n",
        "\n",
        "# Simulate a dataset of 1000 values (e.g., heights in cm)\n",
        "np.random.seed(42)  # For reproducibility\n",
        "data = np.random.normal(loc=170, scale=10, size=1000)  # Mean=170, Std=10\n",
        "\n",
        "# Convert to pandas DataFrame\n",
        "df = pd.DataFrame(data, columns=['Height'])\n",
        "\n",
        "# Central Tendency\n",
        "mean_value = df['Height'].mean()\n",
        "median_value = df['Height'].median()\n",
        "mode_value = stats.mode(df['Height'], keepdims=True).mode[0]\n",
        "\n",
        "# Dispersion\n",
        "variance_value = df['Height'].var()\n",
        "std_dev_value = df['Height'].std()\n",
        "range_value = df['Height'].max() - df['Height'].min()\n",
        "iqr_value = stats.iqr(df['Height'])\n",
        "\n",
        "# Display Results\n",
        "summary = {\n",
        "    \"Mean\": mean_value,\n",
        "    \"Median\": median_value,\n",
        "    \"Mode\": mode_value,\n",
        "    \"Variance\": variance_value,\n",
        "    \"Standard Deviation\": std_dev_value,\n",
        "    \"Range\": range_value,\n",
        "    \"Interquartile Range (IQR)\": iqr_value\n",
        "}\n",
        "\n",
        "for key, value in summary.items():\n",
        "    print(f\"{key}: {value:.2f}\")"
      ],
      "metadata": {
        "colab": {
          "base_uri": "https://localhost:8080/"
        },
        "id": "gK62FBfeJ6oz",
        "outputId": "3bc434c5-4de8-4885-a614-86d4c1a855c5"
      },
      "execution_count": 20,
      "outputs": [
        {
          "output_type": "stream",
          "name": "stdout",
          "text": [
            "Mean: 170.19\n",
            "Median: 170.25\n",
            "Mode: 137.59\n",
            "Variance: 95.89\n",
            "Standard Deviation: 9.79\n",
            "Range: 70.94\n",
            "Interquartile Range (IQR): 12.96\n"
          ]
        }
      ]
    },
    {
      "cell_type": "markdown",
      "source": [
        "**15. Use NumPy or pandas to summarize a dataset's descriptive statistics.**"
      ],
      "metadata": {
        "id": "utJ4cntAGlRk"
      }
    },
    {
      "cell_type": "code",
      "source": [
        "import numpy as np\n",
        "\n",
        "# Convert to NumPy arrays\n",
        "age = np.array([25, 30, 35, 40, 45])\n",
        "salary = np.array([50000, 60000, 75000, 80000, 85000])\n",
        "\n",
        "# Compute statistics manually\n",
        "summary = {\n",
        "    \"Mean\": np.mean(age),\n",
        "    \"Median\": np.median(age),\n",
        "    \"Standard Deviation\": np.std(age, ddof=1),\n",
        "    \"Variance\": np.var(age, ddof=1),\n",
        "    \"Min\": np.min(age),\n",
        "    \"Max\": np.max(age),\n",
        "    \"25th Percentile\": np.percentile(age, 25),\n",
        "    \"75th Percentile\": np.percentile(age, 75),\n",
        "}\n",
        "\n",
        "print(summary)"
      ],
      "metadata": {
        "colab": {
          "base_uri": "https://localhost:8080/"
        },
        "id": "TWYzLHTYG_kk",
        "outputId": "dc36cbc3-c7f0-4771-ea9d-5327b6ab1792"
      },
      "execution_count": 17,
      "outputs": [
        {
          "output_type": "stream",
          "name": "stdout",
          "text": [
            "{'Mean': 35.0, 'Median': 35.0, 'Standard Deviation': 7.905694150420948, 'Variance': 62.5, 'Min': 25, 'Max': 45, '25th Percentile': 30.0, '75th Percentile': 40.0}\n"
          ]
        }
      ]
    },
    {
      "cell_type": "markdown",
      "source": [
        "**16. Plot a boxplot to understand the spread and identify outliers.**"
      ],
      "metadata": {
        "id": "nEWFHkH2QxpI"
      }
    },
    {
      "cell_type": "code",
      "source": [
        "import numpy as np\n",
        "import seaborn as sns\n",
        "import matplotlib.pyplot as plt\n",
        "\n",
        "# Generate dataset with some outliers\n",
        "np.random.seed(42)\n",
        "data = np.append(np.random.normal(50, 15, 100), [120, 130, 140])  # Adding outliers\n",
        "\n",
        "# Boxplot visualization\n",
        "plt.figure(figsize=(6, 4))\n",
        "sns.boxplot(data=data, color='skyblue')\n",
        "\n",
        "# Titles and labels\n",
        "plt.title(\"Boxplot: Spread & Outliers\")\n",
        "plt.ylabel(\"Values\")\n",
        "plt.show()"
      ],
      "metadata": {
        "colab": {
          "base_uri": "https://localhost:8080/",
          "height": 372
        },
        "id": "oUQkq3htRs0W",
        "outputId": "3770b3e8-4c94-49d3-f8bc-b3c61a9e485b"
      },
      "execution_count": 29,
      "outputs": [
        {
          "output_type": "display_data",
          "data": {
            "text/plain": [
              "<Figure size 600x400 with 1 Axes>"
            ],
            "image/png": "[encoded data removed]"
          },
          "metadata": {}
        }
      ]
    },
    {
      "cell_type": "markdown",
      "source": [
        "**17. Calculate the interquartile range (IQR) of a dataset.**"
      ],
      "metadata": {
        "id": "h6ArwBDEJF5F"
      }
    },
    {
      "cell_type": "code",
      "source": [
        "import numpy as np\n",
        "import pandas as pd\n",
        "from scipy import stats\n",
        "\n",
        "# Sample dataset\n",
        "data = np.array([10, 20, 30, 40, 50, 60, 70, 80, 90, 100])\n",
        "\n",
        "# Convert to DataFrame\n",
        "df = pd.DataFrame(data, columns=['Values'])\n",
        "\n",
        "# Method 1: Using pandas\n",
        "iqr_pandas = df['Values'].quantile(0.75) - df['Values'].quantile(0.25)\n",
        "\n",
        "# Method 2: Using NumPy\n",
        "q1 = np.percentile(data, 25)\n",
        "q3 = np.percentile(data, 75)\n",
        "iqr_numpy = q3 - q1\n",
        "\n",
        "# Method 3: Using SciPy\n",
        "iqr_scipy = stats.iqr(data)\n",
        "\n",
        "# Display results\n",
        "print(f\"IQR (pandas): {iqr_pandas}\")\n",
        "print(f\"IQR (NumPy): {iqr_numpy}\")\n",
        "print(f\"IQR (SciPy): {iqr_scipy}\")"
      ],
      "metadata": {
        "colab": {
          "base_uri": "https://localhost:8080/"
        },
        "id": "0K5JVANZKeoN",
        "outputId": "33f124a3-dbc3-4f60-fa42-155c1b9cdada"
      },
      "execution_count": 21,
      "outputs": [
        {
          "output_type": "stream",
          "name": "stdout",
          "text": [
            "IQR (pandas): 45.0\n",
            "IQR (NumPy): 45.0\n",
            "IQR (SciPy): 45.0\n"
          ]
        }
      ]
    },
    {
      "cell_type": "markdown",
      "source": [
        "**18. Implement Z-score normalization and explain its significance.**"
      ],
      "metadata": {
        "id": "9V1anUVgLCuV"
      }
    },
    {
      "cell_type": "code",
      "source": [
        "import numpy as np\n",
        "import pandas as pd\n",
        "\n",
        "# Generate dataset\n",
        "np.random.seed(42)\n",
        "data = np.random.randint(50, 150, size=10)  # Random numbers between 50 and 150\n",
        "\n",
        "# Compute mean and std\n",
        "mean = np.mean(data)\n",
        "std_dev = np.std(data)\n",
        "\n",
        "# Apply Z-score normalization\n",
        "z_scores = (data - mean) / std_dev\n",
        "\n",
        "# Display results\n",
        "df = pd.DataFrame({'Original': data, 'Z-Score': z_scores})\n",
        "print(df)"
      ],
      "metadata": {
        "colab": {
          "base_uri": "https://localhost:8080/"
        },
        "id": "ZQzBw3etLfEk",
        "outputId": "2b0ecade-f0a1-4915-e74f-a5ad6f4fe34e"
      },
      "execution_count": 22,
      "outputs": [
        {
          "output_type": "stream",
          "name": "stdout",
          "text": [
            "   Original   Z-Score\n",
            "0       101 -0.449349\n",
            "1       142  1.166730\n",
            "2        64 -1.907760\n",
            "3       121  0.338982\n",
            "4       110 -0.094600\n",
            "5        70 -1.671261\n",
            "6       132  0.772564\n",
            "7       136  0.930230\n",
            "8       124  0.457232\n",
            "9       124  0.457232\n"
          ]
        }
      ]
    },
    {
      "cell_type": "markdown",
      "source": [
        "**19. Compare two datasets using their standard deviations.**"
      ],
      "metadata": {
        "id": "FVnrUOxRLuHN"
      }
    },
    {
      "cell_type": "code",
      "source": [
        "data1 = np.random.normal(50, 10, 1000)  # Mean=50, Std=10\n",
        "data2 = np.random.normal(50, 20, 1000)  # Mean=50, Std=20\n",
        "\n",
        "std1 = np.std(data1)\n",
        "std2 = np.std(data2)\n",
        "\n",
        "print(f\"Standard Deviation of Dataset 1: {std1:.2f}\")\n",
        "print(f\"Standard Deviation of Dataset 2: {std2:.2f}\")\n",
        "\n",
        "if std1 > std2:\n",
        "    print(\"Dataset 1 is more spread out.\")\n",
        "else:\n",
        "    print(\"Dataset 2 is more spread out.\")"
      ],
      "metadata": {
        "colab": {
          "base_uri": "https://localhost:8080/"
        },
        "id": "9McSXwvSMDZG",
        "outputId": "9cf2fc52-3487-45ca-a655-d7010d73220e"
      },
      "execution_count": 23,
      "outputs": [
        {
          "output_type": "stream",
          "name": "stdout",
          "text": [
            "Standard Deviation of Dataset 1: 10.00\n",
            "Standard Deviation of Dataset 2: 19.73\n",
            "Dataset 2 is more spread out.\n"
          ]
        }
      ]
    },
    {
      "cell_type": "markdown",
      "source": [
        "**20. Write a Python program to visualize covariance using a heatmap.**"
      ],
      "metadata": {
        "id": "VuFtwA0pM2HF"
      }
    },
    {
      "cell_type": "code",
      "source": [
        "import seaborn as sns\n",
        "import matplotlib.pyplot as plt\n",
        "\n",
        "# Generate dataset\n",
        "df = pd.DataFrame({\n",
        "    'A': np.random.randint(10, 100, 50),\n",
        "    'B': np.random.randint(20, 200, 50),\n",
        "    'C': np.random.randint(30, 300, 50)\n",
        "})\n",
        "\n",
        "# Compute covariance matrix\n",
        "cov_matrix = df.cov()\n",
        "\n",
        "# Heatmap visualization\n",
        "plt.figure(figsize=(6, 4))\n",
        "sns.heatmap(cov_matrix, annot=True, cmap='coolwarm', fmt=\".2f\")\n",
        "plt.title(\"Covariance Heatmap\")\n",
        "plt.show()"
      ],
      "metadata": {
        "colab": {
          "base_uri": "https://localhost:8080/",
          "height": 391
        },
        "id": "D322QLq6M9GZ",
        "outputId": "62ded088-e80e-4ac2-8b43-550ae6caa3ae"
      },
      "execution_count": 24,
      "outputs": [
        {
          "output_type": "display_data",
          "data": {
            "text/plain": [
              "<Figure size 600x400 with 2 Axes>"
            ],
            "image/png": "[encoded data removed]"
          },
          "metadata": {}
        }
      ]
    },
    {
      "cell_type": "markdown",
      "source": [
        "**21. Use seaborn to create a correlation matrix for a dataset.**"
      ],
      "metadata": {
        "id": "Brfr7n_UNB4b"
      }
    },
    {
      "cell_type": "code",
      "source": [
        "# Compute correlation matrix\n",
        "corr_matrix = df.corr()\n",
        "\n",
        "# Heatmap visualization\n",
        "plt.figure(figsize=(6, 4))\n",
        "sns.heatmap(corr_matrix, annot=True, cmap='coolwarm', fmt=\".2f\", linewidths=1)\n",
        "plt.title(\"Correlation Matrix\")\n",
        "plt.show()"
      ],
      "metadata": {
        "colab": {
          "base_uri": "https://localhost:8080/",
          "height": 391
        },
        "id": "EOE5ISwtNdFX",
        "outputId": "1113fcc7-d18f-461c-e604-1b6870b2172b"
      },
      "execution_count": 25,
      "outputs": [
        {
          "output_type": "display_data",
          "data": {
            "text/plain": [
              "<Figure size 600x400 with 2 Axes>"
            ],
            "image/png": "[encoded data removed]"
          },
          "metadata": {}
        }
      ]
    },
    {
      "cell_type": "markdown",
      "source": [
        "**22. Generate a dataset and implement both variance and standard deviation computations.**"
      ],
      "metadata": {
        "id": "XXs25LtVN2vo"
      }
    },
    {
      "cell_type": "code",
      "source": [
        "# Generate dataset\n",
        "data = np.random.randint(10, 100, 20)\n",
        "\n",
        "# Compute variance and standard deviation\n",
        "variance = np.var(data, ddof=1)  # Sample variance\n",
        "std_dev = np.std(data, ddof=1)  # Sample standard deviation\n",
        "\n",
        "print(f\"Variance: {variance:.2f}\")\n",
        "print(f\"Standard Deviation: {std_dev:.2f}\")"
      ],
      "metadata": {
        "colab": {
          "base_uri": "https://localhost:8080/"
        },
        "id": "umFA4ZVaOnMA",
        "outputId": "85775c89-52d5-4eca-a236-39999d86c8d2"
      },
      "execution_count": 26,
      "outputs": [
        {
          "output_type": "stream",
          "name": "stdout",
          "text": [
            "Variance: 855.71\n",
            "Standard Deviation: 29.25\n"
          ]
        }
      ]
    },
    {
      "cell_type": "markdown",
      "source": [
        "**23. Visualize skewness and kurtosis using Python libraries like matplotlib or seaborn.**"
      ],
      "metadata": {
        "id": "QSdIUrCoOtYn"
      }
    },
    {
      "cell_type": "code",
      "source": [
        "from scipy.stats import skew, kurtosis\n",
        "\n",
        "# Generate dataset\n",
        "data = np.random.normal(50, 15, 1000)\n",
        "\n",
        "# Compute skewness and kurtosis\n",
        "skewness = skew(data)\n",
        "kurt = kurtosis(data)\n",
        "\n",
        "# Visualization\n",
        "plt.figure(figsize=(8, 4))\n",
        "sns.histplot(data, kde=True, bins=30)\n",
        "plt.axvline(np.mean(data), color='red', linestyle='dashed', label='Mean')\n",
        "plt.title(f\"Skewness: {skewness:.2f}, Kurtosis: {kurt:.2f}\")\n",
        "plt.legend()\n",
        "plt.show()"
      ],
      "metadata": {
        "colab": {
          "base_uri": "https://localhost:8080/",
          "height": 391
        },
        "id": "XDrV9_l8Oxr4",
        "outputId": "22713a88-870f-4d13-aac0-955b62f6ed0e"
      },
      "execution_count": 27,
      "outputs": [
        {
          "output_type": "display_data",
          "data": {
            "text/plain": [
              "<Figure size 800x400 with 1 Axes>"
            ],
            "image/png": "[encoded data removed]"
          },
          "metadata": {}
        }
      ]
    },
    {
      "cell_type": "markdown",
      "source": [
        "**24. Implement the Pearson and Spearman correlation coefficients for a dataset.**"
      ],
      "metadata": {
        "id": "k2zktiUHO6YW"
      }
    },
    {
      "cell_type": "code",
      "source": [
        "# Compute Pearson and Spearman correlations\n",
        "pearson_corr = df.corr(method='pearson')\n",
        "spearman_corr = df.corr(method='spearman')\n",
        "\n",
        "# Print results\n",
        "print(\"Pearson Correlation Matrix:\\n\", pearson_corr)\n",
        "print(\"\\nSpearman Correlation Matrix:\\n\", spearman_corr)"
      ],
      "metadata": {
        "colab": {
          "base_uri": "https://localhost:8080/"
        },
        "id": "rwpMAJDAPdGX",
        "outputId": "400c3255-2402-47fe-cefd-6b151ea2b2cd"
      },
      "execution_count": 28,
      "outputs": [
        {
          "output_type": "stream",
          "name": "stdout",
          "text": [
            "Pearson Correlation Matrix:\n",
            "           A         B         C\n",
            "A  1.000000  0.006783 -0.234603\n",
            "B  0.006783  1.000000  0.030187\n",
            "C -0.234603  0.030187  1.000000\n",
            "\n",
            "Spearman Correlation Matrix:\n",
            "           A         B         C\n",
            "A  1.000000  0.049909 -0.217565\n",
            "B  0.049909  1.000000  0.044076\n",
            "C -0.217565  0.044076  1.000000\n"
          ]
        }
      ]
    }
  ]
}